{
 "cells": [
  {
   "cell_type": "code",
   "execution_count": null,
   "id": "f29c8c25-d2e4-4d4f-bd45-7791091dbca0",
   "metadata": {},
   "outputs": [],
   "source": [
    "##LIMPAR CATALOGO LOCAL home/alves/iceberg_warehouse"
   ]
  },
  {
   "cell_type": "code",
   "execution_count": null,
   "id": "05b665d1-b9ac-41b2-a936-568815eebafb",
   "metadata": {},
   "outputs": [],
   "source": [
    "from pyspark.sql import SparkSession"
   ]
  },
  {
   "cell_type": "code",
   "execution_count": null,
   "id": "dcd42761-5ba9-453c-828e-1a4bcff6317d",
   "metadata": {},
   "outputs": [],
   "source": [
    "spark = SparkSession.builder \\\n",
    "    .appName(\"IcebergLocalTest\") \\\n",
    "    .config(\"spark.jars.packages\", \"org.apache.iceberg:iceberg-spark-runtime-3.3_2.12:1.3.0\") \\\n",
    "    .config(\"spark.sql.catalog.local\", \"org.apache.iceberg.spark.SparkCatalog\") \\\n",
    "    .config(\"spark.sql.catalog.local.type\", \"hadoop\") \\\n",
    "    .config(\"spark.sql.catalog.local.warehouse\", \"file:///home/alves/Projetos/eEDB-015/iceberg_warehouse\") \\\n",
    "    .getOrCreate()"
   ]
  },
  {
   "cell_type": "code",
   "execution_count": null,
   "id": "2f05446c-d322-49ca-83a6-515e1a708c6f",
   "metadata": {},
   "outputs": [],
   "source": [
    "spark.sql(\"CREATE DATABASE IF NOT EXISTS local.db\")"
   ]
  },
  {
   "cell_type": "code",
   "execution_count": null,
   "id": "e0701299-eecf-4517-9427-c4d1029798fc",
   "metadata": {},
   "outputs": [],
   "source": [
    "df = spark.read.parquet(\"raw_data/yellow_tripdata_2024-01.parquet\")"
   ]
  },
  {
   "cell_type": "code",
   "execution_count": null,
   "id": "44f964ec-3a40-419e-9fd1-bb3feb3cbd7f",
   "metadata": {},
   "outputs": [],
   "source": [
    "df.show()"
   ]
  },
  {
   "cell_type": "code",
   "execution_count": null,
   "id": "5eeab93c-5007-4b08-8c35-2d1b27ed1621",
   "metadata": {},
   "outputs": [],
   "source": [
    "df.printSchema()"
   ]
  },
  {
   "cell_type": "code",
   "execution_count": null,
   "id": "4be2fd24-b4fd-458d-872a-ae8d2c64495c",
   "metadata": {},
   "outputs": [],
   "source": [
    "df = df.drop(\"tpep_pickup_datetime\")\\\n",
    "       .drop(\"tpep_dropoff_datetime\")"
   ]
  },
  {
   "cell_type": "code",
   "execution_count": null,
   "id": "cea509e4-5c4a-4921-905c-215062f75b92",
   "metadata": {},
   "outputs": [],
   "source": [
    "df.printSchema()"
   ]
  },
  {
   "cell_type": "code",
   "execution_count": null,
   "id": "7964bc6a-49ff-46fd-9882-4a8d24fe4a6c",
   "metadata": {},
   "outputs": [],
   "source": [
    "df.write.format(\"iceberg\")\\\n",
    "        .mode(\"overwrite\")\\\n",
    "        .saveAsTable(\"local.db.yellow_tripdata\")"
   ]
  },
  {
   "cell_type": "code",
   "execution_count": null,
   "id": "fca1bf83-cf6c-4e2a-93fa-432bff98b166",
   "metadata": {},
   "outputs": [],
   "source": [
    "df = spark.read.table(\"local.db.yellow_tripdata\")"
   ]
  },
  {
   "cell_type": "code",
   "execution_count": null,
   "id": "fe1f16b3-b37a-4103-a1c9-756a00285f3b",
   "metadata": {},
   "outputs": [],
   "source": [
    "df.show()"
   ]
  }
 ],
 "metadata": {
  "kernelspec": {
   "display_name": "Python 3 (ipykernel)",
   "language": "python",
   "name": "python3"
  },
  "language_info": {
   "codemirror_mode": {
    "name": "ipython",
    "version": 3
   },
   "file_extension": ".py",
   "mimetype": "text/x-python",
   "name": "python",
   "nbconvert_exporter": "python",
   "pygments_lexer": "ipython3",
   "version": "3.12.3"
  }
 },
 "nbformat": 4,
 "nbformat_minor": 5
}
